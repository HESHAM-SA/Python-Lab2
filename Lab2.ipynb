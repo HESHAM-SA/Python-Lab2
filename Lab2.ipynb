{
 "cells": [
  {
   "cell_type": "code",
   "execution_count": null,
   "id": "985c7da2",
   "metadata": {},
   "outputs": [],
   "source": [
    "movie1 = 'm1'\n",
    "movie_rate_score = 3\n",
    "movie_popularity_score = 72.65\n",
    "if movie_rate_score >= 4 and movie_popularity_score > 80:\n",
    "    print('Highly recommended')\n",
    "elif movie_rate_score >= 3 or movie_popularity_score > 70: \n",
    "    print('I recommended it, It is good')\n",
    "elif movie_rate_score <= 2 and movie_popularity_score > 60: \n",
    "    print('You should check it out!')\n",
    "elif movie_rate_score <= 2 and movie_popularity_score < 50:\n",
    "    print(\"Don't watch it, It is a waste of time\")"
   ]
  }
 ],
 "metadata": {
  "kernelspec": {
   "display_name": "Python 3 (ipykernel)",
   "language": "python",
   "name": "python3"
  },
  "language_info": {
   "codemirror_mode": {
    "name": "ipython",
    "version": 3
   },
   "file_extension": ".py",
   "mimetype": "text/x-python",
   "name": "python",
   "nbconvert_exporter": "python",
   "pygments_lexer": "ipython3",
   "version": "3.10.9"
  }
 },
 "nbformat": 4,
 "nbformat_minor": 5
}
